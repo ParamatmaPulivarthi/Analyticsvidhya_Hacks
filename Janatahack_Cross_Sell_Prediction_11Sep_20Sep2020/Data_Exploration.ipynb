import pandas as pd
import numpy as np
df_train=pd.read_csv('train.csv')
df_test=pd.read_csv('test.csv')
print("********No.of rows & columns in dataset******** \n",df_train.shape,"\n \n" ,"******Columns in dataset******* \n",df_train.columns,"\n \n","*****Top 5 records of the dataset***** \n",df_train.head())
#Missing value checks/NAN value checks
print("*********Missing value interpretation**********  \n",
      "*******Gender******* \n",df_train.Gender.unique(),"\n",
      "*******Age****** \n",df_train.Age.unique(),"\n \n",
     "*******Driving_License******* \n",df_train.Driving_License.unique(),"\n \n",
     "*******Region_Code******* \n",df_train.Region_Code.unique(),"\n",
     "*******Previously_Insured******* \n",df_train.Previously_Insured.unique(),"\n \n",
     "*******Vehicle_Age******* \n",df_train.Vehicle_Age.unique(),"\n \n",
     "*******Vehicle_Damage******* \n",df_train.Vehicle_Damage.unique(),"\n \n",
     "*******Annual_Premium******* \n",df_train.Annual_Premium.unique(),"\n \n",
     "*******Policy_Sales_Channel******* \n",df_train.Policy_Sales_Channel.unique(),"\n \n",
     "*******Vintage******* \n",df_train.Vintage.unique(),"\n \n",
     "*******Response******* \n",df_train.Response.unique(),"\n \n")
#Categorical Variables
#     Gender
#     Driving_License
#     Region_Code
#     Previously_Insured
#     Vehicle_Age
#     Vehicle_Damage

# Continuous variables
#     Age
#     Annual_Premium
#     Policy_Sales_Channel
#     Vintage

# There is no NAN values in entire data.  So there is no missing value imputations for this data

#Frequence tables generation -variable values frequences
print("*******Frequency tables******* \n",
      "*******Gender******* \n",df_train.Gender.value_counts(),"\n \n",
      "*******Age******* \n",df_train.Age.value_counts(),"\n \n",
     "*******Driving_License******* \n",df_train.Driving_License.value_counts(),"\n \n",
     "*******Region_Code******* \n",df_train.Region_Code.value_counts(),"\n \n",
     "*******Previously_Insured******* \n",df_train.Previously_Insured.value_counts(),"\n \n",
     "*******Vehicle_Age******* \n",df_train.Vehicle_Age.value_counts(),"\n \n",
     "*******Vehicle_Damage******* \n",df_train.Vehicle_Damage.value_counts(),"\n \n",
     "*******Annual_Premium******* \n",df_train.Annual_Premium.value_counts(),"\n \n",
     "*******Policy_Sales_Channel******* \n",df_train.Policy_Sales_Channel.value_counts(),"\n \n",
     "*******Vintage******* \n",df_train.Vintage.value_counts(),"\n \n",
     "*******Response******* \n",df_train.Response.value_counts(),"\n \n")
#Cross tabulation with target variable   
print("*******Cross tabulation with target variable******* \n","\n \n",
      "*******Gender Vs Response******* \n",pd.crosstab(df_train.Gender,df_train.Response),"\n \n",
      "*******Age Vs Response******* \n",pd.crosstab(df_train.Age,df_train.Response),"\n \n",
      "*******Driving_License Vs Response******* \n",pd.crosstab(df_train.Driving_License,df_train.Response),"\n \n",
      "*******Region_Code Vs Response******* \n",pd.crosstab(df_train.Region_Code,df_train.Response),"\n \n",
      "*******Previously_Insured Vs Response******* \n",pd.crosstab(df_train.Previously_Insured,df_train.Response),"\n \n",
      "*******Vehicle_Age Vs Response******* \n",pd.crosstab(df_train.Vehicle_Age,df_train.Response),"\n \n",
      "*******Vehicle_Damage Vs Response******* \n",pd.crosstab(df_train.Vehicle_Damage,df_train.Response),"\n \n",
      "*******Annual_Premium Vs Response******* \n",pd.crosstab(df_train.Annual_Premium,df_train.Response),"\n \n",
      "*******Policy_Sales_Channel Vs Response******* \n",pd.crosstab(df_train.Policy_Sales_Channel,df_train.Response),"\n \n",
      "*******Vintage Vs Response******* \n",pd.crosstab(df_train.Vintage,df_train.Response),"\n \n"
     )
     
     
     
     
     
     
     
      
